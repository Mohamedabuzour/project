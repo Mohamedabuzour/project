{
 "cells": [
  {
   "cell_type": "code",
   "execution_count": null,
   "id": "73f1fa29",
   "metadata": {},
   "outputs": [],
   "source": [
    "import random\n",
    "\n",
    "# Predefined responses\n",
    "responses = {\n",
    "    \"hello\": [\"Hello!\", \"Hi there!\", \"Greetings!\"],\n",
    "    \"how are you\": [\"I'm doing well, thank you!\", \"I'm fine, how about you?\"],\n",
    "    \"goodbye\": [\"Goodbye!\", \"See you later!\", \"Farewell!\"],\n",
    "    \"default\": [\"I'm sorry, I didn't understand.\", \"Could you please rephrase that?\"]\n",
    "}\n",
    "\n",
    "# Function to get a response based on user input\n",
    "def get_response(user_input):\n",
    "    for key in responses:\n",
    "        if key in user_input:\n",
    "            return random.choice(responses[key])\n",
    "    \n",
    "    return random.choice(responses[\"default\"])\n",
    "\n",
    "# Chatbot function\n",
    "def chatbot():\n",
    "    print(\"Chatbot: Hi! How can I assist you today?\")\n",
    "    \n",
    "    while True:\n",
    "        user_input = input(\"User: \").lower()\n",
    "        response = get_response(user_input)\n",
    "        print(\"Chatbot:\", response)\n",
    "        \n",
    "        if user_input == \"goodbye\":\n",
    "            break\n",
    "\n",
    "# Run the chatbot\n",
    "chatbot()\n"
   ]
  }
 ],
 "metadata": {
  "kernelspec": {
   "display_name": "Python 3 (ipykernel)",
   "language": "python",
   "name": "python3"
  },
  "language_info": {
   "codemirror_mode": {
    "name": "ipython",
    "version": 3
   },
   "file_extension": ".py",
   "mimetype": "text/x-python",
   "name": "python",
   "nbconvert_exporter": "python",
   "pygments_lexer": "ipython3",
   "version": "3.10.9"
  }
 },
 "nbformat": 4,
 "nbformat_minor": 5
}
