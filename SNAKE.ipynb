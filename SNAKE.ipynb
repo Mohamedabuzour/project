{
 "cells": [
  {
   "cell_type": "markdown",
   "id": "fb9ab1d8",
   "metadata": {},
   "source": [
    "Import modules neccessary for the game"
   ]
  },
  {
   "cell_type": "code",
   "execution_count": 1,
   "id": "25f8201b",
   "metadata": {},
   "outputs": [],
   "source": [
    "import random \n",
    "import curses"
   ]
  },
  {
   "cell_type": "code",
   "execution_count": null,
   "id": "d5e2b801",
   "metadata": {},
   "outputs": [],
   "source": [
    "#initialize the curses library to create our screen\n",
    "screen=curses.initscr()\n",
    "#hide the mouse cursor\n",
    "curses.curs_set()\n",
    "#get max screen height and width\n",
    "screen_height,screen_width=screen.getmaxyx()\n",
    "#create a new window\n",
    "window=curses.newwin(screen_height,screen_width,0,0)\n",
    "#allow window to receive input from the key boord\n",
    "window.keypad(1)\n",
    "#update time out\n",
    "window.timeout(150)\n",
    "# snake head\n",
    "snk_x=screen_width//4\n",
    "snk_y=screen_height//2\n",
    "#snake body\n",
    "snake=[[snk_y,snk_x],[snk_y,snk_x-1],[snk_y,snk_x-2]]\n",
    "#create the food\n",
    "food=[screen_height//2,screen_width//2]\n",
    "#food by using pi character\n",
    "window.addch(food[0],food[1],curses.ACS_PI)\n",
    "#move ment \n",
    "key=curses.KEY_RIGHT\n",
    "#game loop\n",
    "while True:\n",
    "    #get the next key\n",
    "    next_key=window.getch()\n",
    "    key= key if next_key==-1 else next_key \n",
    "    # if next_key==-1:\n",
    "    #key=key\n",
    "    #else: key=next_key\n",
    "    \n",
    "    #check if snake collied with walls or it self\n",
    "    if snake[0][0]in [0,screen_height]or snake[0][1]in [0,screen_width]or snake[0]in snake[1:]:\n",
    "        #exit program\n",
    "        curses.endwin()   #closing the window\n",
    "        quit()            # exit the program\n",
    "    #set the new possition of the snake head based on the direction \n",
    "    new_head=[snake[0][0],snake[0][1]]\n",
    "    if key== curses.KEY_DOWN:\n",
    "        new_head[0]+=1\n",
    "    if key== curses.KEY_UP:\n",
    "        new_head[0]-=1\n",
    "    if key== curses.KEY_RIGHT:\n",
    "        new_head[1]+=1\n",
    "    if key== curses.KEY_LEFT:\n",
    "        new_head[1]-=1\n",
    "    #insert the new head to the first possition of snake list\n",
    "    snake.insert(0,new_head)\n",
    "    #check if snake ate the food\n",
    "    if snake[0]==food:\n",
    "        food=None #remove food \n",
    "        #while food is none generate new food \n",
    "        while food is None:\n",
    "            new_food=[random.randint(1,screen_height-1),random.randint(1,screen_width-1)]\n",
    "            #set the new food\n",
    "            food=new_food if new_food not in snake else None\n",
    "        window.addch(food[0],food[1],curses.ACS_PI)\n",
    "    else:\n",
    "        tail=snake.pop()\n",
    "        window.addch(tail[0],tail[1],\" \")\n",
    "    #update the possition of the snake on the screen\n",
    "    window.addch(snake[0][0],snake[0][1],curses.ACS_CKBOARD)\n",
    "####################finish############################################################\n",
    "        \n"
   ]
  },
  {
   "cell_type": "code",
   "execution_count": null,
   "id": "417baf30",
   "metadata": {},
   "outputs": [],
   "source": []
  },
  {
   "cell_type": "code",
   "execution_count": null,
   "id": "3fb03ec3",
   "metadata": {},
   "outputs": [],
   "source": []
  }
 ],
 "metadata": {
  "kernelspec": {
   "display_name": "Python 3 (ipykernel)",
   "language": "python",
   "name": "python3"
  },
  "language_info": {
   "codemirror_mode": {
    "name": "ipython",
    "version": 3
   },
   "file_extension": ".py",
   "mimetype": "text/x-python",
   "name": "python",
   "nbconvert_exporter": "python",
   "pygments_lexer": "ipython3",
   "version": "3.10.9"
  }
 },
 "nbformat": 4,
 "nbformat_minor": 5
}
