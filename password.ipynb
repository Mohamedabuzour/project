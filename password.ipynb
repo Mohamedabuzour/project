{
 "cells": [
  {
   "cell_type": "code",
   "execution_count": 1,
   "id": "c562be7a",
   "metadata": {},
   "outputs": [
    {
     "name": "stdout",
     "output_type": "stream",
     "text": [
      "VJ48GeIt\n"
     ]
    }
   ],
   "source": [
    "import random\n",
    "\n",
    "def generate_password(length):\n",
    "    characters = \"abcdefghijklmnopqrstuvwxyzABCDEFGHIJKLMNOPQRSTUVWXYZ1234567890!@#$%^&*\"\n",
    "    num_of_chars = len(characters)\n",
    "    password = \"\"\n",
    "\n",
    "    for _ in range(length):\n",
    "        rand_indx = random.randrange(0, num_of_chars)\n",
    "        password += characters[rand_indx]\n",
    "\n",
    "    return password\n",
    "\n",
    "# Usage example\n",
    "password_length = 8\n",
    "random_password = generate_password(password_length)\n",
    "print(random_password)\n"
   ]
  },
  {
   "cell_type": "code",
   "execution_count": 2,
   "id": "bf1187d2",
   "metadata": {},
   "outputs": [
    {
     "name": "stdout",
     "output_type": "stream",
     "text": [
      "4ZuLgXir\n"
     ]
    }
   ],
   "source": [
    "# another solution\n",
    "import random\n",
    "\n",
    "def generate_password(length):\n",
    "    characters = \"abcdefghijklmnopqrstuvwxyzABCDEFGHIJKLMNOPQRSTUVWXYZ1234567890!@#$%^&*\"\n",
    "    password = \"\"\n",
    "\n",
    "    for _ in range(length):\n",
    "        password += random.choice(characters)\n",
    "\n",
    "    return password\n",
    "\n",
    "# Usage example\n",
    "password_length = 8\n",
    "random_password = generate_password(password_length)\n",
    "print(random_password)\n"
   ]
  },
  {
   "cell_type": "code",
   "execution_count": null,
   "id": "edb2b32d",
   "metadata": {},
   "outputs": [],
   "source": []
  }
 ],
 "metadata": {
  "kernelspec": {
   "display_name": "Python 3 (ipykernel)",
   "language": "python",
   "name": "python3"
  },
  "language_info": {
   "codemirror_mode": {
    "name": "ipython",
    "version": 3
   },
   "file_extension": ".py",
   "mimetype": "text/x-python",
   "name": "python",
   "nbconvert_exporter": "python",
   "pygments_lexer": "ipython3",
   "version": "3.10.9"
  }
 },
 "nbformat": 4,
 "nbformat_minor": 5
}
