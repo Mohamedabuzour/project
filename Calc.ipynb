{
 "cells": [
  {
   "cell_type": "code",
   "execution_count": 1,
   "id": "f3841e04",
   "metadata": {},
   "outputs": [
    {
     "name": "stdout",
     "output_type": "stream",
     "text": [
      "enter your first number12\n",
      "enter your second number14\n",
      "enter your operator*\n",
      "168.0\n"
     ]
    }
   ],
   "source": [
    "\n",
    "num1=float(input(\"enter your first number\"))\n",
    "num2=float(input(\"enter your second number\"))\n",
    "operator= input (\"enter your operator\")\n",
    "if operator==\"+\":\n",
    "    print (num1+num2)\n",
    "elif operator==\"-\":\n",
    "    print (num1-num2)\n",
    "elif operator==\"*\":\n",
    "    print (num1*num2)\n",
    "elif operator==\"/\":\n",
    "    print (num1/num2)\n",
    "elif operator==\"**\":\n",
    "    print(num1**num2)\n",
    "elif operator==\"%\":\n",
    "     print(num1%num2)\n",
    "else :  \n",
    "    print (\"wrong\")\n"
   ]
  },
  {
   "cell_type": "code",
   "execution_count": null,
   "id": "975bf273",
   "metadata": {},
   "outputs": [],
   "source": []
  }
 ],
 "metadata": {
  "kernelspec": {
   "display_name": "Python 3 (ipykernel)",
   "language": "python",
   "name": "python3"
  },
  "language_info": {
   "codemirror_mode": {
    "name": "ipython",
    "version": 3
   },
   "file_extension": ".py",
   "mimetype": "text/x-python",
   "name": "python",
   "nbconvert_exporter": "python",
   "pygments_lexer": "ipython3",
   "version": "3.10.9"
  }
 },
 "nbformat": 4,
 "nbformat_minor": 5
}
