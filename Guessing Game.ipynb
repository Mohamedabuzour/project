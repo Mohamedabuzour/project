{
 "cells": [
  {
   "cell_type": "code",
   "execution_count": 1,
   "id": "b3356719",
   "metadata": {},
   "outputs": [],
   "source": [
    "import random"
   ]
  },
  {
   "cell_type": "code",
   "execution_count": 7,
   "id": "a7c7e828",
   "metadata": {},
   "outputs": [
    {
     "name": "stdout",
     "output_type": "stream",
     "text": [
      "enter number 5\n",
      "the number is bigger\n",
      "enter number 7\n",
      "the number is smoller\n",
      "enter number 6\n",
      "you win\n"
     ]
    }
   ],
   "source": [
    "num=random.randint(1,10)\n",
    "guess=\" \"\n",
    "count=0\n",
    "limit=3\n",
    "out=False\n",
    "try:\n",
    "    while guess!=num and not out:\n",
    "        if count<limit:\n",
    "            guess=float(input(\"enter number \"))\n",
    "            count+=1\n",
    "            if guess<num:\n",
    "                print(\"the number is bigger\")\n",
    "            elif guess>num:\n",
    "                print (\"the number is smoller\")\n",
    "        else:\n",
    "            out=True\n",
    "except ValueError:\n",
    "    print(\"only number\")\n",
    "if out:\n",
    "    print (\"you lose\")\n",
    "else:\n",
    "    print(\"you win\")"
   ]
  },
  {
   "cell_type": "code",
   "execution_count": null,
   "id": "320ee86e",
   "metadata": {},
   "outputs": [],
   "source": []
  },
  {
   "cell_type": "code",
   "execution_count": null,
   "id": "9a9e3c38",
   "metadata": {},
   "outputs": [],
   "source": []
  }
 ],
 "metadata": {
  "kernelspec": {
   "display_name": "Python 3 (ipykernel)",
   "language": "python",
   "name": "python3"
  },
  "language_info": {
   "codemirror_mode": {
    "name": "ipython",
    "version": 3
   },
   "file_extension": ".py",
   "mimetype": "text/x-python",
   "name": "python",
   "nbconvert_exporter": "python",
   "pygments_lexer": "ipython3",
   "version": "3.10.9"
  }
 },
 "nbformat": 4,
 "nbformat_minor": 5
}
