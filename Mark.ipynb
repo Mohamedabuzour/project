{
 "cells": [
  {
   "cell_type": "code",
   "execution_count": null,
   "id": "2069ff95",
   "metadata": {},
   "outputs": [],
   "source": [
    "# Write your answer here\n",
    "mark=float(input (\"enter your mark :\"))\n",
    "if mark >=85 and mark <=100:\n",
    "    print (\"A\")\n",
    "elif mark >=75 and mark <=85:\n",
    "    print(\"B\")\n",
    "elif mark >=65 and mark <=75:\n",
    "    print(\"C\")\n",
    "elif mark >=50 and mark <=65:\n",
    "    print(\"D\")    \n",
    "elif mark <50:\n",
    "    print(\"good luck\")\n",
    "else:\n",
    "    print(\"wrong\")"
   ]
  },
  {
   "cell_type": "code",
   "execution_count": null,
   "id": "05cae02e",
   "metadata": {},
   "outputs": [],
   "source": []
  }
 ],
 "metadata": {
  "kernelspec": {
   "display_name": "Python 3 (ipykernel)",
   "language": "python",
   "name": "python3"
  },
  "language_info": {
   "codemirror_mode": {
    "name": "ipython",
    "version": 3
   },
   "file_extension": ".py",
   "mimetype": "text/x-python",
   "name": "python",
   "nbconvert_exporter": "python",
   "pygments_lexer": "ipython3",
   "version": "3.10.9"
  }
 },
 "nbformat": 4,
 "nbformat_minor": 5
}
