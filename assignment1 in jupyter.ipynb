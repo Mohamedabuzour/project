{
 "cells": [
  {
   "cell_type": "markdown",
   "metadata": {},
   "source": [
    "Define a function that applies fibonacchi using recursion\n",
    "\n",
    " Example\n",
    "Input: 10\n",
    "\n",
    "Output: [0, 1, 1, 2, 3, 5, 8, 13, 21, 34]"
   ]
  },
  {
   "cell_type": "code",
   "execution_count": 6,
   "metadata": {},
   "outputs": [
    {
     "name": "stdout",
     "output_type": "stream",
     "text": [
      "result is: \n",
      "0 1 1 2 3 5 8 13 21 34 "
     ]
    }
   ],
   "source": [
    "# Write your answer here\n",
    "def fun(x):\n",
    "    \n",
    "    if x<=1:\n",
    "        return x\n",
    "    else:\n",
    "        return (fun(x-1)+fun(x-2))\n",
    "     \n",
    "A=10\n",
    "if A<=0:\n",
    "    print (\"plese enter a positive int: \")\n",
    "else:\n",
    "    print (\"result is: \")\n",
    "    for i in range (A):\n",
    "        print (fun(i), end=\" \")\n"
   ]
  },
  {
   "cell_type": "code",
   "execution_count": null,
   "metadata": {},
   "outputs": [],
   "source": []
  },
  {
   "cell_type": "markdown",
   "metadata": {},
   "source": [
    "# Write a Python program to remove an item from a given set\n",
    "\n",
    "## Example\n",
    "my_set: {1, 2, 3, 4, 5}\n",
    "\n",
    "Output: {1, 2, 4, 5}"
   ]
  },
  {
   "cell_type": "code",
   "execution_count": 12,
   "metadata": {},
   "outputs": [
    {
     "data": {
      "text/plain": [
       "{1, 2, 4, 5}"
      ]
     },
     "execution_count": 12,
     "metadata": {},
     "output_type": "execute_result"
    }
   ],
   "source": [
    "# Write your answer here\n",
    "my_set={1,2,3,4,5}\n",
    "my_set.remove(3)   \n",
    "# my_set.discard(3)\n",
    "my_set"
   ]
  },
  {
   "cell_type": "markdown",
   "metadata": {},
   "source": [
    "# Write a Python program to removes multiple items from a given set\n",
    "\n",
    "## Example\n",
    "my_set: {1, 2, 3, 4, 5}\n",
    "\n",
    "items to be removed: {1, 4}\n",
    "\n",
    "Output: {2, 3, 5}"
   ]
  },
  {
   "cell_type": "code",
   "execution_count": 14,
   "metadata": {},
   "outputs": [
    {
     "data": {
      "text/plain": [
       "{2, 3, 5}"
      ]
     },
     "execution_count": 14,
     "metadata": {},
     "output_type": "execute_result"
    }
   ],
   "source": [
    "# Write your answer here\n",
    "my_set= {1, 2, 3, 4, 5}\n",
    "my_set.remove(1)\n",
    "#my_set.discard(1)\n",
    "my_set.remove(4)\n",
    "#my_set.discard(4)\n",
    "my_set\n"
   ]
  },
  {
   "cell_type": "code",
   "execution_count": 1,
   "metadata": {},
   "outputs": [
    {
     "name": "stdout",
     "output_type": "stream",
     "text": [
      "{2, 3, 5}\n"
     ]
    }
   ],
   "source": [
    "my_set = {1, 2, 3, 4, 5}\n",
    "items_to_remove = {1, 4}\n",
    "\n",
    "for item in items_to_remove:\n",
    "    my_set.remove(item)\n",
    "\n",
    "print(my_set)"
   ]
  },
  {
   "cell_type": "markdown",
   "metadata": {},
   "source": [
    "# Write a Python program to find the index of an item in a tuple.\n",
    "\n",
    "## Example\n",
    "my_tuple: ('apple', 'banana', 'orange', 'grape', 'banana')\n",
    "\n",
    "index of 'orange' is: 2"
   ]
  },
  {
   "cell_type": "code",
   "execution_count": 15,
   "metadata": {},
   "outputs": [
    {
     "data": {
      "text/plain": [
       "2"
      ]
     },
     "execution_count": 15,
     "metadata": {},
     "output_type": "execute_result"
    }
   ],
   "source": [
    "# Write your answer here\n",
    "my_tuple=(\"apple\",\"banana\",\"orange\",\"grape\",\"banana\")\n",
    "my_tuple.index(\"orange\")"
   ]
  },
  {
   "cell_type": "markdown",
   "metadata": {},
   "source": [
    " Ask user to input a sentence then convert this sentence into list of words. (hint: search for split function)\n",
    "\n",
    "## Example\n",
    "Input: \"Welcome to Amit\"\n",
    "\n",
    "Output: ['Welcome', 'to', 'Amit']"
   ]
  },
  {
   "cell_type": "code",
   "execution_count": 44,
   "metadata": {},
   "outputs": [
    {
     "name": "stdout",
     "output_type": "stream",
     "text": [
      "['welcome', 'to', 'amit']\n"
     ]
    }
   ],
   "source": [
    "# Write your answer here\n",
    "def convert(lst):\n",
    "    return ([i for i in lst.split()])\n",
    "lst=\"welcome to amit\"\n",
    "print (convert(lst))\n",
    "\n",
    "   \n"
   ]
  },
  {
   "cell_type": "code",
   "execution_count": 1,
   "metadata": {},
   "outputs": [
    {
     "name": "stdout",
     "output_type": "stream",
     "text": [
      "enter your sentence: welcome to egypt\n",
      "['welcome', 'to', 'egypt']\n"
     ]
    }
   ],
   "source": [
    "sentence= input(\"enter your sentence: \")\n",
    "lst=sentence.split()\n",
    "print (lst)"
   ]
  },
  {
   "cell_type": "markdown",
   "metadata": {},
   "source": [
    "# Take a string from the user and if it's Palindrome print \"Palindrome\" otherwise print \"Not a Palindrome\"\n",
    "\n",
    "A string is Palindrome if it's read the same from the left and right\n",
    "\n",
    "## Example\n",
    "Input: racecar\n",
    "\n",
    "Output: Palindrome"
   ]
  },
  {
   "cell_type": "code",
   "execution_count": 2,
   "metadata": {},
   "outputs": [
    {
     "name": "stdout",
     "output_type": "stream",
     "text": [
      "Enter a string: racecar\n",
      "\n",
      "Palindrome\n"
     ]
    }
   ],
   "source": [
    "# Write your answer here\n",
    "string = input(\"Enter a string: \")\n",
    "if string == string[::-1]:\n",
    "        print(\"\\nPalindrome\")\n",
    "else:\n",
    "        print(\"\\nNot a palindrome\")"
   ]
  },
  {
   "cell_type": "markdown",
   "metadata": {},
   "source": [
    "# find the factorial of a number \n",
    "## Example\n",
    "(factorial of 5) = 5 * 4 * 3 * 2 * 1 = 120"
   ]
  },
  {
   "cell_type": "code",
   "execution_count": 4,
   "metadata": {},
   "outputs": [
    {
     "name": "stdout",
     "output_type": "stream",
     "text": [
      "The factorial of 5 = 120\n"
     ]
    }
   ],
   "source": [
    "# Write your answer her\n",
    "def factorial(x):\n",
    "    if x == 1:\n",
    "        return 1\n",
    "    else:\n",
    "        return (x * factorial(x-1))\n",
    "num = 5\n",
    "result = factorial(num)\n",
    "print(\"The factorial of\", num, \"=\", result)"
   ]
  },
  {
   "cell_type": "markdown",
   "metadata": {},
   "source": [
    "# Create a List of Squares of Numbers from 1 to 10\n",
    "## Example\n",
    "Output: [1, 4, 9, 16, 25, 36, 49, 64, 81, 100]"
   ]
  },
  {
   "cell_type": "code",
   "execution_count": 24,
   "metadata": {},
   "outputs": [
    {
     "data": {
      "text/plain": [
       "[1, 4, 9, 16, 25, 36, 49, 64, 81, 100]"
      ]
     },
     "execution_count": 24,
     "metadata": {},
     "output_type": "execute_result"
    }
   ],
   "source": [
    "# Write your answer here\n",
    "my_list=[1,2,3,4,5,6,7,8,9,10]\n",
    "mapped = map(lambda n: n**2, my_list)\n",
    "list(mapped)\n"
   ]
  },
  {
   "cell_type": "markdown",
   "metadata": {},
   "source": [
    "Another Solution"
   ]
  },
  {
   "cell_type": "code",
   "execution_count": 1,
   "metadata": {},
   "outputs": [
    {
     "data": {
      "text/plain": [
       "[1, 4, 9, 16, 25, 36, 49, 64, 81, 100]"
      ]
     },
     "execution_count": 1,
     "metadata": {},
     "output_type": "execute_result"
    }
   ],
   "source": [
    "# Write your answer here\n",
    "def sq(n):\n",
    "    return n**2\n",
    "def my_map(fun,lst):\n",
    "    new_lst=[]\n",
    "    for i in lst:\n",
    "        new_lst.append(fun(i))\n",
    "    return new_lst\n",
    "lst=[1,2,3,4,5,6,7,8,9,10]\n",
    "my_map(sq,lst)"
   ]
  },
  {
   "cell_type": "markdown",
   "metadata": {},
   "source": [
    "# Create a function that Calculates the Sum of Even Numbers in a List\n",
    "## Example\n",
    "numbers: [1, 2, 3, 4, 5, 6]\n",
    "\n",
    "Output: 12"
   ]
  },
  {
   "cell_type": "code",
   "execution_count": 10,
   "metadata": {},
   "outputs": [
    {
     "name": "stdout",
     "output_type": "stream",
     "text": [
      "12\n"
     ]
    }
   ],
   "source": [
    "# Write your answer here\n",
    "def check_even(x):\n",
    "    return x % 2 == 0\n",
    "def my_filter(fun, lst):\n",
    "    new_lst =[]\n",
    "    for i in lst:\n",
    "        if fun(i):\n",
    "            new_lst.append(i)\n",
    "    sum_even =0 \n",
    "    for i in new_lst:\n",
    "        sum_even+=i\n",
    "    \n",
    "    return new_lst, sum_even\n",
    "\n",
    "my_list = [1, 2 ,3 ,4, 5, 6]\n",
    "numbers , sum_even = my_filter(check_even, my_list)\n",
    "print(sum_even)\n",
    "#my_list = [1, 2 ,3 ,4, 5, 6]\n",
    "#filtered = filter(lambda n: n % 2 == 0, my_list)\n",
    "#list(filtered)\n"
   ]
  },
  {
   "cell_type": "code",
   "execution_count": 24,
   "metadata": {},
   "outputs": [
    {
     "data": {
      "text/plain": [
       "12"
      ]
     },
     "execution_count": 24,
     "metadata": {},
     "output_type": "execute_result"
    }
   ],
   "source": [
    "import statistics\n",
    "lst=[1,2,3,4,5,6]\n",
    "sum(num for num in lst if not num%2)\n"
   ]
  },
  {
   "cell_type": "markdown",
   "metadata": {},
   "source": [
    "#Create a function that takes a list as input and return reversed list\n",
    "\n",
    "## Example\n",
    "lst: [1, 2, 3]\n",
    "\n",
    "Output: [3, 2, 1]"
   ]
  },
  {
   "cell_type": "code",
   "execution_count": 6,
   "metadata": {},
   "outputs": [
    {
     "name": "stdout",
     "output_type": "stream",
     "text": [
      "[4, 3, 2, 1]\n"
     ]
    }
   ],
   "source": [
    "# Write your answer here\n",
    "lst=[1,2,3,4]\n",
    "x=lst.reverse()\n",
    "print(lst)"
   ]
  },
  {
   "cell_type": "code",
   "execution_count": 8,
   "metadata": {},
   "outputs": [
    {
     "name": "stdout",
     "output_type": "stream",
     "text": [
      "4 3 2 1 "
     ]
    }
   ],
   "source": [
    "#Another Solution\n",
    "lst =[1,2,3,4]\n",
    "for i in reversed(lst):\n",
    "    print(i , end=\" \")"
   ]
  },
  {
   "cell_type": "code",
   "execution_count": 13,
   "metadata": {},
   "outputs": [
    {
     "name": "stdout",
     "output_type": "stream",
     "text": [
      "[3, 2, 1]\n"
     ]
    }
   ],
   "source": [
    "#Another Answer\n",
    "def rev(lst):\n",
    "    new_lst=lst[::-1]\n",
    "    return new_lst\n",
    "lst=[1,2,3]\n",
    "print(rev(lst))"
   ]
  },
  {
   "cell_type": "markdown",
   "metadata": {},
   "source": [
    "# create a function that calculates the median of a list of numbers (a median is the middle element in sorted list of numbers)\n",
    "\n",
    "## Example\n",
    "numbers: [5, 2, 7, 3, 1]\n",
    "\n",
    "Output: 3"
   ]
  },
  {
   "cell_type": "code",
   "execution_count": 32,
   "metadata": {},
   "outputs": [
    {
     "name": "stdout",
     "output_type": "stream",
     "text": [
      "the orignal lst is: [5, 2, 7, 3, 1]\n",
      "Median of lst is: 3\n"
     ]
    }
   ],
   "source": [
    "# Write your answer here\n",
    "import statistics\n",
    "lst=[5,2,7,3,1]\n",
    "print(\"the orignal lst is: \" +str(lst))\n",
    "result=statistics.median(lst)\n",
    "print(\"Median of lst is: \" + str(result))"
   ]
  },
  {
   "cell_type": "markdown",
   "metadata": {},
   "source": [
    "# create a function that calculates the mode of a list of number (mode is the most frequent element in a list)\n",
    "\n",
    "## Example\n",
    "lst: [5, 2, 7, 3, 2, 1, 5]\n",
    "\n",
    "Output: 5"
   ]
  },
  {
   "cell_type": "code",
   "execution_count": 30,
   "metadata": {},
   "outputs": [
    {
     "data": {
      "text/plain": [
       "3"
      ]
     },
     "execution_count": 30,
     "metadata": {},
     "output_type": "execute_result"
    }
   ],
   "source": [
    "# Write your answer here\n",
    "lst=[5,2,7,3,2,5,1,5]\n",
    "lst.count(5)"
   ]
  },
  {
   "cell_type": "code",
   "execution_count": 29,
   "metadata": {},
   "outputs": [
    {
     "name": "stdout",
     "output_type": "stream",
     "text": [
      "5\n"
     ]
    }
   ],
   "source": [
    "#Another Answer\n",
    "def x(lst):\n",
    "    return max(set(lst), key=lst.count)\n",
    "lst=[5,2,7,3,2,1,5,5]\n",
    "print(x(lst))"
   ]
  },
  {
   "cell_type": "code",
   "execution_count": 31,
   "metadata": {},
   "outputs": [
    {
     "name": "stdout",
     "output_type": "stream",
     "text": [
      "5\n"
     ]
    }
   ],
   "source": [
    "import statistics\n",
    "from statistics import mode\n",
    " \n",
    "def x(lst):\n",
    "    return(mode(lst))\n",
    "lst = [5,2,7,2,3,5,4,5]\n",
    "print(x(lst))"
   ]
  },
  {
   "cell_type": "markdown",
   "metadata": {},
   "source": [
    "# Task: take the mark from the user and convert it to grade according to the following guidelines\n",
    "1. 85-100 A\n",
    "2. 75-85 B\n",
    "3. 65-75 C\n",
    "4. 50-65 D\n",
    "5. <50 F"
   ]
  },
  {
   "cell_type": "code",
   "execution_count": 22,
   "metadata": {},
   "outputs": [
    {
     "name": "stdout",
     "output_type": "stream",
     "text": [
      "enter your mark :1000\n",
      "wrong\n"
     ]
    }
   ],
   "source": [
    "# Write your answer here\n",
    "mark=float(input (\"enter your mark :\"))\n",
    "if mark >=85 and mark <=100:\n",
    "    print (\"A\")\n",
    "elif mark >=75 and mark <=85:\n",
    "    print(\"B\")\n",
    "elif mark >=65 and mark <=75:\n",
    "    print(\"C\")\n",
    "elif mark >=50 and mark <=65:\n",
    "    print(\"D\")    \n",
    "elif mark <50:\n",
    "    print(\"good luck\")\n",
    "else:\n",
    "    print(\"wrong\")"
   ]
  },
  {
   "cell_type": "code",
   "execution_count": null,
   "metadata": {},
   "outputs": [],
   "source": []
  }
 ],
 "metadata": {
  "colab": {
   "collapsed_sections": [
    "IZoL1B1NNyIJ",
    "FxOzt49VXjjp",
    "tySmqn_NWn5v",
    "R0d1e5t-dcGx"
   ],
   "provenance": [],
   "toc_visible": true
  },
  "kernelspec": {
   "display_name": "Python 3 (ipykernel)",
   "language": "python",
   "name": "python3"
  },
  "language_info": {
   "codemirror_mode": {
    "name": "ipython",
    "version": 3
   },
   "file_extension": ".py",
   "mimetype": "text/x-python",
   "name": "python",
   "nbconvert_exporter": "python",
   "pygments_lexer": "ipython3",
   "version": "3.10.9"
  }
 },
 "nbformat": 4,
 "nbformat_minor": 1
}
