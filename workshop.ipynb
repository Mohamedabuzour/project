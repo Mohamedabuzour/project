{
 "cells": [
  {
   "cell_type": "markdown",
   "metadata": {},
   "source": [
    "# Task 1.\n",
    "1. Calculate Factorial using recursion"
   ]
  },
  {
   "cell_type": "code",
   "execution_count": 2,
   "metadata": {},
   "outputs": [
    {
     "name": "stdout",
     "output_type": "stream",
     "text": [
      "5\n",
      "120\n"
     ]
    }
   ],
   "source": [
    "def factorial(x):\n",
    "    if x==1:\n",
    "        return x\n",
    "    else:\n",
    "        return x*factorial(x-1)\n",
    "a=int(input())\n",
    "res=factorial(a)\n",
    "print (res)"
   ]
  },
  {
   "cell_type": "markdown",
   "metadata": {},
   "source": [
    "# Task 2.\n",
    "1. Write a function that takes a number and return True if this number is prime and False if not."
   ]
  },
  {
   "cell_type": "code",
   "execution_count": 4,
   "metadata": {},
   "outputs": [
    {
     "data": {
      "text/plain": [
       "False"
      ]
     },
     "execution_count": 4,
     "metadata": {},
     "output_type": "execute_result"
    }
   ],
   "source": [
    "def fun(num):\n",
    "    for i in range(2,num):\n",
    "        if num %i==0:\n",
    "            return False\n",
    "    return True\n",
    "fun(6)\n"
   ]
  },
  {
   "cell_type": "markdown",
   "metadata": {},
   "source": [
    "# Task 3.\n",
    "1. Write a function that takes two numbers and return a list of common dividors"
   ]
  },
  {
   "cell_type": "code",
   "execution_count": 5,
   "metadata": {},
   "outputs": [
    {
     "name": "stdout",
     "output_type": "stream",
     "text": [
      "[1, 2, 5, 10]\n"
     ]
    }
   ],
   "source": [
    "def fun (x,y):\n",
    "    lst=[]\n",
    "    for i in range (1,min(x,y)+1):\n",
    "        if x %i==0 and y%i==0:\n",
    "            lst.append(i)\n",
    "    return lst\n",
    "    \n",
    "        \n",
    "lst= fun (10,20)\n",
    "print (lst)"
   ]
  },
  {
   "cell_type": "markdown",
   "metadata": {},
   "source": [
    "# Task 4. \n",
    "1. Given two strings, write a program that efficiently finds the longest common subsequence\n",
    "\n",
    "**Ex:** str1 = \"Welcome to Machine Learning Diploma\" str2 = \"I am studying a Machine Learning Course\" --> Machine Learning"
   ]
  },
  {
   "cell_type": "code",
   "execution_count": 6,
   "metadata": {},
   "outputs": [
    {
     "name": "stdout",
     "output_type": "stream",
     "text": [
      " welcome to machine learning diploma\n",
      "i am studying a machine learning course \n"
     ]
    },
    {
     "data": {
      "text/plain": [
       "' machine learning '"
      ]
     },
     "execution_count": 6,
     "metadata": {},
     "output_type": "execute_result"
    }
   ],
   "source": [
    "#  welcome to machine learning diploma  \n",
    "# i am studying a machine learning course \n",
    "str1=input()\n",
    "str2=input()\n",
    "\n",
    "def fun (str1,str2):\n",
    "    str3=\"\"\n",
    "    for i in range(len(str1)):\n",
    "        for g in range(i, len(str1)):\n",
    "            if str1[i:g+1]in str2:\n",
    "                if len(str1[i:g+1])>len(str3):\n",
    "                    str3=str1[i:g+1]\n",
    "    return str3\n",
    "\n",
    "fun (str1,str2)            "
   ]
  },
  {
   "cell_type": "markdown",
   "metadata": {},
   "source": [
    "# Task 5.\n",
    "1. Write a function that will take a given string and reverse the order of words.\n",
    "\n",
    "**Ex:** “Hello world” → ”world Hello”\n"
   ]
  },
  {
   "cell_type": "code",
   "execution_count": 1,
   "metadata": {},
   "outputs": [
    {
     "name": "stdout",
     "output_type": "stream",
     "text": [
      " Hello world\n",
      "world Hello  \n"
     ]
    }
   ],
   "source": [
    "s= input()\n",
    "def fun (str1):\n",
    "    lst = str1.split(\" \")\n",
    "    \n",
    "    a = \"\"\n",
    "    for i in lst[::-1]:\n",
    "        a=a+i+\" \"\n",
    "    return a\n",
    "res = fun(s)\n",
    "print (res)\n",
    "        \n",
    "#     Hello world"
   ]
  },
  {
   "cell_type": "markdown",
   "metadata": {},
   "source": [
    "# Task 6.\n",
    "1. Create a program that generates a random password of a given length.\n",
    "2. Hint: use random module → import random → random.randrange"
   ]
  },
  {
   "cell_type": "code",
   "execution_count": 8,
   "metadata": {},
   "outputs": [
    {
     "name": "stdout",
     "output_type": "stream",
     "text": [
      " uiuiugns\n"
     ]
    }
   ],
   "source": [
    "import random\n",
    "def gen(length):\n",
    "    characters=\"hbefeyihuihuicxsyabgnxqsuihwcgyqybuisohibiojxdqbvyhniohbgvvhbiugyvhbuhgytfdfxswcd\"\n",
    "    password=\" \"\n",
    "    for i in range(length):\n",
    "        password+=random.choice(characters)\n",
    "    return password\n",
    "password_length=8\n",
    "random_password=gen(password_length)\n",
    "\n",
    "print(random_password)\n"
   ]
  },
  {
   "cell_type": "markdown",
   "metadata": {},
   "source": [
    " Task 7.\n",
    "1. Write a Python program to find all the unique words and count the frequency of occurrence from a given list of strings\n",
    "\n",
    "**Ex:** [\"Welcome\", \"Ali\", \"Hi\", \"Ali\", \"No\", \"Hi\", \"No\", \"Ali\", \"No\", \"Ali\"]  → {'Ali': 4, 'Welcome': 1, 'No': 3, 'Hi': 2}"
   ]
  },
  {
   "cell_type": "code",
   "execution_count": 10,
   "metadata": {},
   "outputs": [
    {
     "name": "stdout",
     "output_type": "stream",
     "text": [
      "{'Welcome', 'Hi', 'Ali', 'No'}\n",
      "[1, 2, 4, 3]\n"
     ]
    }
   ],
   "source": [
    "lst=[\"Welcome\", \"Ali\", \"Hi\", \"Ali\", \"No\", \"Hi\", \"No\", \"Ali\", \"No\", \"Ali\"]\n",
    "my_set=set(lst)\n",
    "\n",
    "counts = []\n",
    "for i in my_set:\n",
    "    c = lst.count(i)\n",
    "    counts.append(c)\n",
    "print(my_set)\n",
    "print(counts)"
   ]
  },
  {
   "cell_type": "markdown",
   "metadata": {},
   "source": [
    "# Task 8.\n",
    "1. Write a Python program to find all the unique words and count the frequency of occurrence from a text file and save the counts in a new file\n",
    "2. This is the same as Task 7 but this time read words from a file\n",
    "3. Hint: use replace function and split function"
   ]
  },
  {
   "cell_type": "code",
   "execution_count": 17,
   "metadata": {},
   "outputs": [],
   "source": [
    "input_file = open(\"input_file.txt\", \"r\")\n",
    "text = input_file.read()\n",
    "input_file.close()\n",
    "text = text.replace('\\n', ' ')\n",
    "words = text.split(' ')"
   ]
  },
  {
   "cell_type": "code",
   "execution_count": 18,
   "metadata": {},
   "outputs": [
    {
     "data": {
      "text/plain": [
       "['Hello', 'Ali', 'Welcome', 'Hello', 'Ali', 'Ali']"
      ]
     },
     "execution_count": 18,
     "metadata": {},
     "output_type": "execute_result"
    }
   ],
   "source": [
    "words"
   ]
  },
  {
   "cell_type": "code",
   "execution_count": 10,
   "metadata": {},
   "outputs": [
    {
     "data": {
      "text/plain": [
       "{'Welcome': 1, 'Hello': 2, 'Ali': 3}"
      ]
     },
     "execution_count": 10,
     "metadata": {},
     "output_type": "execute_result"
    }
   ],
   "source": [
    "\n",
    "un = set(words)\n",
    "counts = {}\n",
    "for i in un:\n",
    "    counts[i] = words.count(i)\n",
    "counts"
   ]
  },
  {
   "cell_type": "code",
   "execution_count": 11,
   "metadata": {},
   "outputs": [],
   "source": [
    "output_file = open(\"output_file.txt\", \"w\")\n",
    "for word in counts:\n",
    "    output_file.write(\"{}: {}\\n\".format(word, counts[word]))\n",
    "output_file.close()"
   ]
  },
  {
   "cell_type": "markdown",
   "metadata": {},
   "source": [
    "# Task 9.\n",
    "1. Implement a basic chatbot that can respond to user input with predefined responses"
   ]
  },
  {
   "cell_type": "code",
   "execution_count": 5,
   "metadata": {},
   "outputs": [
    {
     "name": "stdout",
     "output_type": "stream",
     "text": [
      "How can i assist you today\n",
      " hello\n",
      "chatbot: hi\n",
      " uhuy\n",
      "chatbot: i am soory\n",
      " goodbye\n",
      "chatbot: goodbye\n"
     ]
    }
   ],
   "source": [
    "# Chatbot\n",
    "import random\n",
    "respons={\"hello\":[\"hello\",\"hi\"],\n",
    "        \"how are you\":[\"i am fine\",\"good\",\"i am ok\"],\n",
    "        \"goodbye\":[\"goodbye\",\"see you letter\"],\n",
    "        \"default\":[\"i am soory\",\"i do not understand\"]}\n",
    "def chatbot():\n",
    "    print (\"How can i assist you today\")\n",
    "    \n",
    "    while True:\n",
    "        user_input=input(\" \").lower()\n",
    "        respons=get_respons(user_input)\n",
    "        print (\"chatbot:\", respons)\n",
    "        if user_input==\"goodbye\":\n",
    "            break\n",
    "        \n",
    "        \n",
    "def get_respons(user_input):\n",
    "    for i in respons:\n",
    "        if i in user_input:\n",
    "            return random.choice(respons[i])\n",
    "    return random.choice(respons[\"default\"])\n",
    "        \n",
    "chatbot()\n",
    "    "
   ]
  },
  {
   "cell_type": "markdown",
   "metadata": {},
   "source": [
    "# Task 10: Person class and child Student class \n",
    "Create a Python class Person with attributes: name and age.\n",
    "1. Create a display() method that displays the name and age of an object created via the Person class.\n",
    "2. Create a child class Student which inherits from the Person class and which also has an extra attribute called school.\n",
    "3. Create a method displayStudent() that displays the name, age and section of an object created via the Student class.\n",
    "4. Create a student object via an instantiation on the Student class and then test the displayStudent method"
   ]
  },
  {
   "cell_type": "code",
   "execution_count": 7,
   "metadata": {},
   "outputs": [
    {
     "name": "stdout",
     "output_type": "stream",
     "text": [
      "name is: mark\n",
      " age is: 17\n",
      "school: international school\n",
      "\n"
     ]
    }
   ],
   "source": [
    "class person:\n",
    "    def __init__(self,name,age):\n",
    "        self.name=name\n",
    "        self.age=age\n",
    "    def display(self):\n",
    "        print (\"name is: {}\\n age is: {}\".format(self.name,self.age))\n",
    "        \n",
    "class student(person):\n",
    "    def __init__(self,name,age,school):\n",
    "        super().__init__(name,age)\n",
    "        self.school=school\n",
    "    def display_student(self):\n",
    "        super().display()\n",
    "        print (\"school: {}\\n\".format(self.school))\n",
    "student1=student(\"mark\",\"17\",\"international school\")\n",
    "student1.display_student()\n"
   ]
  },
  {
   "cell_type": "markdown",
   "metadata": {},
   "source": [
    "# Task 11: Rectangle class: \n",
    "1. Write a Rectangle class in Python language, allowing you to build a rectangle with length and width attributes.\n",
    "2. Create a Perimeter() method to calculate the perimeter of the rectangle and a Area() method to calculate the area of the rectangle.\n",
    "3. Create a method display() that display the length, width, perimeter and area of an object created using an instantiation on rectangle class.\n",
    "4. Create a Parallelepipede child class inheriting from the Rectangle class and with a height attribute and another Volume() method to calculate the volume of the Parallelepiped."
   ]
  },
  {
   "cell_type": "code",
   "execution_count": 6,
   "metadata": {},
   "outputs": [
    {
     "name": "stdout",
     "output_type": "stream",
     "text": [
      "20 30 100 600\n",
      "the length of rectangle is:  20\n",
      "the width of rectangle is:  30\n",
      "the perimeter of rectangle is:  100\n",
      "the area of rectangle is:  600\n",
      "the length of parallelepipede is:15\n",
      "the width of parallelepipede is:  25\n",
      "the height of parallelepipede is:  30\n",
      "the perimeter of parallelepipede is: \n",
      "the area of parallelepipede is:  3150\n",
      "the volume of parallelepipede is:  11250\n"
     ]
    }
   ],
   "source": [
    "class rectangle:\n",
    "    def __init__(self,length,width):\n",
    "        self.length=length\n",
    "        self.width=width\n",
    "    \n",
    "    def perimeter(self):\n",
    "        rectangle_perimeter=(self.length+self.width)*2\n",
    "        return rectangle_perimeter\n",
    "    def area (self):\n",
    "        rectangle_area=self.width*self.length\n",
    "        return rectangle_area\n",
    "    def display(self):\n",
    "        area=self.area()\n",
    "        perimeter=self.perimeter()\n",
    "        print (self.length,self.width,perimeter,area)\n",
    "rectangle1=rectangle(20,30)\n",
    "rectangle1.display()\n",
    "print(\"the length of rectangle is: \" , rectangle1.length)\n",
    "print(\"the width of rectangle is: \" , rectangle1.width)\n",
    "print(\"the perimeter of rectangle is: \" , rectangle1.perimeter())\n",
    "print(\"the area of rectangle is: \" , rectangle1.area())\n",
    "\n",
    "\n",
    "class parallelepipede(rectangle):\n",
    "    def __init__(self,length,width,height):\n",
    "        super().__init__(length,width)\n",
    "        self.height=height\n",
    "    def perimeter(self):\n",
    "        return \"not defind\"\n",
    "    def area (self):\n",
    "        parall_area=self.length * self.width *2 + self.length * self.height * 2 + self.width * self.height * 2 \n",
    "        return parall_area\n",
    "    def volume (self):\n",
    "         parall_vol = self.length * self.width * self.height\n",
    "         return parall_vol\n",
    "    def display(self):\n",
    "        perimeter = self.perimeter()\n",
    "        area =  self.area()\n",
    "        volume = self.volume()\n",
    "parall1= parallelepipede(15,25,30)\n",
    "parall1.display()\n",
    "print(f\"the length of parallelepipede is:{parall1.length}\")\n",
    "print(\"the width of parallelepipede is: \" , parall1.width)\n",
    "print(\"the height of parallelepipede is: \" , parall1.height)\n",
    "print(\"the perimeter of parallelepipede is: \" )\n",
    "print(\"the area of parallelepipede is: \" , parall1.area())\n",
    "print(\"the volume of parallelepipede is: \" , parall1.volume())\n"
   ]
  },
  {
   "cell_type": "code",
   "execution_count": null,
   "metadata": {},
   "outputs": [],
   "source": []
  },
  {
   "cell_type": "code",
   "execution_count": null,
   "metadata": {},
   "outputs": [],
   "source": []
  }
 ],
 "metadata": {
  "kernelspec": {
   "display_name": "Python 3 (ipykernel)",
   "language": "python",
   "name": "python3"
  },
  "language_info": {
   "codemirror_mode": {
    "name": "ipython",
    "version": 3
   },
   "file_extension": ".py",
   "mimetype": "text/x-python",
   "name": "python",
   "nbconvert_exporter": "python",
   "pygments_lexer": "ipython3",
   "version": "3.10.9"
  }
 },
 "nbformat": 4,
 "nbformat_minor": 2
}
