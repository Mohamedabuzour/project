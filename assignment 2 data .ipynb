{
 "cells": [
  {
   "cell_type": "markdown",
   "id": "994e194d",
   "metadata": {},
   "source": [
    "1. Write a NumPy program to test whether none of the elements of a given array is zero."
   ]
  },
  {
   "cell_type": "code",
   "execution_count": 1,
   "id": "9b8835d8",
   "metadata": {},
   "outputs": [
    {
     "name": "stdout",
     "output_type": "stream",
     "text": [
      "None of the elements of the array is Zero\n"
     ]
    }
   ],
   "source": [
    "import numpy as np\n",
    "\n",
    "mat = np.array([1,2,3,4,5])\n",
    "\n",
    "if np.all(mat):\n",
    "    print(\"None of the elements of the array is Zero\")\n",
    "else:\n",
    "    print(\"Atleast one of the elements of the array is Zero\")"
   ]
  },
  {
   "cell_type": "markdown",
   "id": "5908f4eb",
   "metadata": {},
   "source": [
    "3. Write a NumPy program to create an element-wise comparison (equal, equal within a tolerance) of two \n",
    "   given"
   ]
  },
  {
   "cell_type": "code",
   "execution_count": 3,
   "id": "0acbdab5",
   "metadata": {},
   "outputs": [
    {
     "name": "stdout",
     "output_type": "stream",
     "text": [
      "Test whether none of the elements of mat1 is zero:\n",
      "True\n",
      "Element-wise comparison (equal) of mat1 and mat2:\n",
      "[False False False False False]\n",
      "Element-wise comparison (equal within a tolerance) of mat1 and mat2:\n",
      "False\n"
     ]
    }
   ],
   "source": [
    "import numpy as np\n",
    "mat1 = np.array([1, 2, 3, 4, 5])\n",
    "mat2 = np.array([2, 4, 6, 8, 10])\n",
    "print(\"Test whether none of the elements of mat1 is zero:\")\n",
    "print(np.all(mat1))\n",
    "print(\"Element-wise comparison (equal) of mat1 and mat2:\")\n",
    "print(np.equal(mat1, mat2))\n",
    "print(\"Element-wise comparison (equal within a tolerance) of mat1 and mat2:\")\n",
    "print(np.allclose(mat1, mat2))"
   ]
  },
  {
   "cell_type": "markdown",
   "id": "06965d6e",
   "metadata": {},
   "source": [
    "4. Write a NumPy program to create an array of 10 zeros,10 ones, 10 fives."
   ]
  },
  {
   "cell_type": "code",
   "execution_count": 17,
   "id": "2ed4d4d7",
   "metadata": {},
   "outputs": [
    {
     "name": "stdout",
     "output_type": "stream",
     "text": [
      "[[0. 0. 0. 0. 0.]\n",
      " [0. 0. 0. 0. 0.]]\n",
      "[[1. 1.]\n",
      " [1. 1.]\n",
      " [1. 1.]\n",
      " [1. 1.]\n",
      " [1. 1.]]\n",
      "[[5. 5. 5. 5. 5.]\n",
      " [5. 5. 5. 5. 5.]]\n"
     ]
    }
   ],
   "source": [
    "import numpy as np\n",
    "mat1=np.zeros((2,5))\n",
    "print(mat1)\n",
    "mat2=np.ones((5,2))\n",
    "print(mat2)\n",
    "#mat3=np.array([[5,5,5,5,5],[5,5,5,5,5]])\n",
    "#print(mat3)\n",
    "mat4=np.ones((2,5))\n",
    "mat4[0 ]=5\n",
    "mat4[1]=5\n",
    "print(mat4)"
   ]
  },
  {
   "cell_type": "markdown",
   "id": "3fb7f448",
   "metadata": {},
   "source": [
    "5. Write a NumPy program to create an array of the integers from 30 to70."
   ]
  },
  {
   "cell_type": "code",
   "execution_count": 8,
   "id": "ae18b776",
   "metadata": {},
   "outputs": [
    {
     "name": "stdout",
     "output_type": "stream",
     "text": [
      "[30 31 32 33 34 35 36 37 38 39 40 41 42 43 44 45 46 47 48 49 50 51 52 53\n",
      " 54 55 56 57 58 59 60 61 62 63 64 65 66 67 68 69 70]\n",
      "int32\n"
     ]
    }
   ],
   "source": [
    "import numpy as np\n",
    "mat=np.arange(30,71)\n",
    "print(mat)\n",
    "print(mat.dtype)"
   ]
  },
  {
   "cell_type": "markdown",
   "id": "f9f712a7",
   "metadata": {},
   "source": [
    "6. Write a NumPy program to create a 3x3 identity matrix "
   ]
  },
  {
   "cell_type": "code",
   "execution_count": 6,
   "id": "d2c2f830",
   "metadata": {},
   "outputs": [
    {
     "data": {
      "text/plain": [
       "array([[1, 0, 0],\n",
       "       [0, 1, 0],\n",
       "       [0, 0, 1]])"
      ]
     },
     "execution_count": 6,
     "metadata": {},
     "output_type": "execute_result"
    }
   ],
   "source": [
    "import numpy as np\n",
    "mat=np.identity(3,dtype=\"int\")\n",
    "mat"
   ]
  },
  {
   "cell_type": "markdown",
   "id": "3a669742",
   "metadata": {},
   "source": [
    "7. Write a NumPy program to generate a random number between 0 and 1"
   ]
  },
  {
   "cell_type": "code",
   "execution_count": 8,
   "id": "631d1bcf",
   "metadata": {},
   "outputs": [
    {
     "data": {
      "text/plain": [
       "0.8066251667208841"
      ]
     },
     "execution_count": 8,
     "metadata": {},
     "output_type": "execute_result"
    }
   ],
   "source": [
    "import numpy as np\n",
    "mat =np.random.random()\n",
    "mat"
   ]
  },
  {
   "cell_type": "code",
   "execution_count": 11,
   "id": "ccf2a314",
   "metadata": {},
   "outputs": [
    {
     "data": {
      "text/plain": [
       "array([0])"
      ]
     },
     "execution_count": 11,
     "metadata": {},
     "output_type": "execute_result"
    }
   ],
   "source": [
    "#Another Answer\n",
    "import numpy as np\n",
    "mat=np.arange(0,1)\n",
    "mat"
   ]
  },
  {
   "cell_type": "markdown",
   "id": "1503e9e4",
   "metadata": {},
   "source": [
    "8. Write a NumPy program to generate an array of 15 random numbers from a standard normal \n",
    "    distribution "
   ]
  },
  {
   "cell_type": "code",
   "execution_count": 13,
   "id": "be010b3e",
   "metadata": {},
   "outputs": [
    {
     "data": {
      "text/plain": [
       "array([-2.72703087, -0.42688202, -0.38366221, -0.89498537,  0.02946727,\n",
       "        1.03743825, -1.65860924,  0.32764917,  0.50820411,  0.82826127,\n",
       "        1.55862954, -0.53371242, -0.63113919,  3.47971469, -0.74963878])"
      ]
     },
     "execution_count": 13,
     "metadata": {},
     "output_type": "execute_result"
    }
   ],
   "source": [
    "import numpy as np\n",
    "mat=np.random.normal(0,1,15)\n",
    "mat"
   ]
  },
  {
   "cell_type": "code",
   "execution_count": 22,
   "id": "5f9306be",
   "metadata": {},
   "outputs": [
    {
     "data": {
      "text/plain": [
       "array([[2.72703087, 0.42688202, 0.38366221, 0.89498537, 0.02946727],\n",
       "       [1.03743825, 1.65860924, 0.32764917, 0.50820411, 0.82826127],\n",
       "       [1.55862954, 0.53371242, 0.63113919, 3.47971469, 0.74963878]])"
      ]
     },
     "execution_count": 22,
     "metadata": {},
     "output_type": "execute_result"
    }
   ],
   "source": [
    "#Another Answer\n",
    "import numpy as np\n",
    "mat=np.empty((3,5))\n",
    "mat"
   ]
  },
  {
   "cell_type": "markdown",
   "id": "606a8f14",
   "metadata": {},
   "source": [
    "9. Write a NumPy program to create a vector with values ranging from 15 to 55 and print all values \n",
    "    except the first and last.\n"
   ]
  },
  {
   "cell_type": "code",
   "execution_count": 19,
   "id": "a8ed88af",
   "metadata": {},
   "outputs": [
    {
     "name": "stdout",
     "output_type": "stream",
     "text": [
      "[15 16 17 18 19 20 21 22 23 24 25 26 27 28 29 30 31 32 33 34 35 36 37 38\n",
      " 39 40 41 42 43 44 45 46 47 48 49 50 51 52 53 54 55]\n",
      "[16 17 18 19 20 21 22 23 24 25 26 27 28 29 30 31 32 33 34 35 36 37 38 39\n",
      " 40 41 42 43 44 45 46 47 48 49 50 51 52 53 54]\n"
     ]
    }
   ],
   "source": [
    "import numpy as np\n",
    "vec=np.arange(15,56)\n",
    "print(vec)\n",
    "print(vec[1:-1])"
   ]
  },
  {
   "cell_type": "markdown",
   "id": "24e2d590",
   "metadata": {},
   "source": [
    "10. Write a NumPy program to create a vector of length 5 filled with arbitrary integers from 0 to 10 "
   ]
  },
  {
   "cell_type": "code",
   "execution_count": 1,
   "id": "346ae373",
   "metadata": {},
   "outputs": [
    {
     "data": {
      "text/plain": [
       "array([1, 1, 4, 1, 0])"
      ]
     },
     "execution_count": 1,
     "metadata": {},
     "output_type": "execute_result"
    }
   ],
   "source": [
    "import numpy as np\n",
    "vec=np.random.randint(0, 11, 5)\n",
    "vec"
   ]
  },
  {
   "cell_type": "markdown",
   "id": "e0792f06",
   "metadata": {},
   "source": [
    "11. Write a NumPy program to create a 10x10 matrix, in which the elements on the borders will be equal \n",
    "    to 1, and inside 0.\n"
   ]
  },
  {
   "cell_type": "code",
   "execution_count": 30,
   "id": "2c88ab78",
   "metadata": {},
   "outputs": [
    {
     "name": "stdout",
     "output_type": "stream",
     "text": [
      "[[1. 1. 1. 1. 1. 1. 1. 1. 1. 1.]\n",
      " [1. 0. 0. 0. 0. 0. 0. 0. 0. 1.]\n",
      " [1. 0. 0. 0. 0. 0. 0. 0. 0. 1.]\n",
      " [1. 0. 0. 0. 0. 0. 0. 0. 0. 1.]\n",
      " [1. 0. 0. 0. 0. 0. 0. 0. 0. 1.]\n",
      " [1. 0. 0. 0. 0. 0. 0. 0. 0. 1.]\n",
      " [1. 0. 0. 0. 0. 0. 0. 0. 0. 1.]\n",
      " [1. 0. 0. 0. 0. 0. 0. 0. 0. 1.]\n",
      " [1. 0. 0. 0. 0. 0. 0. 0. 0. 1.]\n",
      " [1. 1. 1. 1. 1. 1. 1. 1. 1. 1.]]\n"
     ]
    }
   ],
   "source": [
    "import numpy as np\n",
    "mat= np.ones((10,10))\n",
    "mat[1:-1,1:-1]=0\n",
    "print(mat)"
   ]
  },
  {
   "cell_type": "markdown",
   "id": "5b46fe8a",
   "metadata": {},
   "source": [
    "12. Write a NumPy program to create a 5x5 zero matrix with elements on the main diagonal equal to 1, 2, 3, 4, 5."
   ]
  },
  {
   "cell_type": "code",
   "execution_count": 31,
   "id": "08b11d80",
   "metadata": {},
   "outputs": [
    {
     "data": {
      "text/plain": [
       "array([[1, 0, 0, 0, 0],\n",
       "       [0, 2, 0, 0, 0],\n",
       "       [0, 0, 3, 0, 0],\n",
       "       [0, 0, 0, 4, 0],\n",
       "       [0, 0, 0, 0, 5]])"
      ]
     },
     "execution_count": 31,
     "metadata": {},
     "output_type": "execute_result"
    }
   ],
   "source": [
    "import numpy as np\n",
    "mat=np.diag([1,2,3,4,5])\n",
    "mat"
   ]
  },
  {
   "cell_type": "markdown",
   "id": "340b52bb",
   "metadata": {},
   "source": [
    "13. Write a NumPy program to create a 4x4 matrix in which 0 and 1 are staggered, with zeros on the main diagonal."
   ]
  },
  {
   "cell_type": "code",
   "execution_count": 23,
   "id": "3c41ef00",
   "metadata": {},
   "outputs": [
    {
     "name": "stdout",
     "output_type": "stream",
     "text": [
      "[[0. 1. 0. 1.]\n",
      " [1. 0. 1. 0.]\n",
      " [0. 1. 0. 1.]\n",
      " [1. 0. 1. 0.]]\n"
     ]
    }
   ],
   "source": [
    "import numpy as np\n",
    "mat=np.zeros((4,4))\n",
    "mat[::2,1:: 2]=1\n",
    "mat[1::2, ::2]=1\n",
    "print(mat)"
   ]
  },
  {
   "cell_type": "markdown",
   "id": "38099a85",
   "metadata": {},
   "source": [
    "14. Write a NumPy program to save two given arrays into a single file in compressed format (.npz format) and load it."
   ]
  },
  {
   "cell_type": "code",
   "execution_count": 4,
   "id": "f62f265c",
   "metadata": {},
   "outputs": [
    {
     "name": "stdout",
     "output_type": "stream",
     "text": [
      "Original arrays:\n",
      "[0 1 2 3 4 5 6 7 8 9]\n",
      "[11 12 13 14 15 16 17 18 19]\n",
      "Load arrays from the 'temp_arra.npz' file:\n",
      "[0 1 2 3 4 5 6 7 8 9]\n",
      "[11 12 13 14 15 16 17 18 19]\n"
     ]
    }
   ],
   "source": [
    "import numpy as np\n",
    "import os\n",
    "x = np.arange(10)\n",
    "y = np.arange(11, 20)\n",
    "print(\"Original arrays:\")\n",
    "print(x)\n",
    "print(y)\n",
    "np.savez('temp_arra.npz', x=x, y=y)\n",
    "print(\"Load arrays from the 'temp_arra.npz' file:\")\n",
    "with np.load('temp_arra.npz') as data:\n",
    "    x2 = data['x']\n",
    "    y2 = data['y']\n",
    "    print(x2)\n",
    "    print(y2)"
   ]
  },
  {
   "cell_type": "markdown",
   "id": "b7449d35",
   "metadata": {},
   "source": [
    "16. Write a NumPy program to extract all numbers from a given array which are less and greater than a \n",
    "    specified number"
   ]
  },
  {
   "cell_type": "code",
   "execution_count": 28,
   "id": "efed6953",
   "metadata": {},
   "outputs": [
    {
     "name": "stdout",
     "output_type": "stream",
     "text": [
      "[[ 4.  45.   6.   4.7]\n",
      " [12.   1.4  5.   3. ]\n",
      " [18.  15.  25.  78. ]\n",
      " [32.  68.   9.  24. ]]\n",
      "[45. 12. 18. 15. 25. 78. 32. 68. 24.]\n",
      "[4.  6.  4.7 1.4 5.  3.  9. ]\n"
     ]
    }
   ],
   "source": [
    "import numpy as np\n",
    "mat=np.array([[4,45,6,4.7],[12,1.4,5,3],[18,15,25,78],[32,68,9,24]])\n",
    "n=10\n",
    "print (mat)\n",
    "print(mat[mat>n])\n",
    "print(mat[mat<n])"
   ]
  },
  {
   "cell_type": "code",
   "execution_count": null,
   "id": "c54789fa",
   "metadata": {},
   "outputs": [],
   "source": []
  }
 ],
 "metadata": {
  "kernelspec": {
   "display_name": "Python 3 (ipykernel)",
   "language": "python",
   "name": "python3"
  },
  "language_info": {
   "codemirror_mode": {
    "name": "ipython",
    "version": 3
   },
   "file_extension": ".py",
   "mimetype": "text/x-python",
   "name": "python",
   "nbconvert_exporter": "python",
   "pygments_lexer": "ipython3",
   "version": "3.10.9"
  }
 },
 "nbformat": 4,
 "nbformat_minor": 5
}
